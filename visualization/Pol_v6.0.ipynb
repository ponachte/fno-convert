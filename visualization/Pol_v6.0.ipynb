{
 "cells": [
  {
   "cell_type": "code",
   "execution_count": 1,
   "id": "4d8b7668-6f56-40e5-9c11-d47afa9620d1",
   "metadata": {},
   "outputs": [
    {
     "name": "stdout",
     "output_type": "stream",
     "text": [
      "Note: you may need to restart the kernel to use updated packages.\n"
     ]
    }
   ],
   "source": [
    "if __name__ == \"__main__\":\n",
    "    %pip install -q -r requirements.txt"
   ]
  },
  {
   "cell_type": "code",
   "execution_count": 2,
   "id": "bcfe6099-24f6-47b3-b93a-77373bb4cad9",
   "metadata": {},
   "outputs": [],
   "source": [
    "import json\n",
    "import pathlib\n",
    "import ipywidgets\n",
    "import traitlets\n",
    "import ipyelk"
   ]
  },
  {
   "cell_type": "code",
   "execution_count": 3,
   "id": "ce189d75-c169-44ee-99c5-3be55ed2ba2a",
   "metadata": {},
   "outputs": [
    {
     "name": "stdout",
     "output_type": "stream",
     "text": [
      "234\n"
     ]
    }
   ],
   "source": [
    "from rdflib import Graph\n",
    "g = Graph()\n",
    "g.parse(\"../graphs/python/sum3.ttl\")\n",
    "#g.parse(\"simple_sum.ttl\")\n",
    "\n",
    "print(len(g))"
   ]
  },
  {
   "cell_type": "code",
   "execution_count": 4,
   "id": "fda1b6d5-1bb7-42fc-a4f6-8752e19096cf",
   "metadata": {},
   "outputs": [],
   "source": [
    "#METHODS\n",
    "#======="
   ]
  },
  {
   "cell_type": "code",
   "execution_count": 5,
   "id": "cced676c-6cf8-4084-ac72-348d6197a9f9",
   "metadata": {},
   "outputs": [],
   "source": [
    "def find_layer_count():\n",
    "    count_layer_query = \"\"\"\n",
    "        PREFIX fno: <https://w3id.org/function/ontology#> \n",
    "        PREFIX fnoc: <https://w3id.org/function/vocabulary/composition#> \n",
    "        PREFIX ex: <http://www.example.com#>\n",
    "        PREFIX prov: <http://www.w3.org/ns/prov#> \n",
    "        SELECT * \n",
    "        WHERE {\n",
    "            ?composition fnoc:start ?start .\n",
    "        } \n",
    "        \"\"\" \n",
    "\n",
    "    count = 1\n",
    "    for row in g.query(count_layer_query):\n",
    "        #print(row.composition)\n",
    "        count = count+1\n",
    "    \n",
    "    return count"
   ]
  },
  {
   "cell_type": "code",
   "execution_count": 6,
   "id": "10722632-e70f-4706-a5dd-1718cd91382b",
   "metadata": {},
   "outputs": [],
   "source": [
    "def find_compositions():\n",
    "    compositions_query = \"\"\"\n",
    "        PREFIX fno: <https://w3id.org/function/ontology#> \n",
    "        PREFIX fnoc: <https://w3id.org/function/vocabulary/composition#> \n",
    "        PREFIX ex: <http://www.example.com#>\n",
    "        PREFIX prov: <http://www.w3.org/ns/prov#> \n",
    "        SELECT * \n",
    "        WHERE {\n",
    "            ?composition a fno:Composition\n",
    "        } \n",
    "        \"\"\" \n",
    "\n",
    "    compositions = []\n",
    "    for row in g.query(compositions_query):\n",
    "        compositions.append(row.composition)\n",
    "    \n",
    "    return compositions "
   ]
  },
  {
   "cell_type": "code",
   "execution_count": 7,
   "id": "fcb69560-52ef-4e92-a00d-2c14e46b4e75",
   "metadata": {},
   "outputs": [],
   "source": [
    "def find_start_node_per_layer(composition):\n",
    "    start_node_for_composition = \"\"\"\n",
    "        PREFIX fno: <https://w3id.org/function/ontology#> \n",
    "        PREFIX fnoc: <https://w3id.org/function/vocabulary/composition#> \n",
    "        PREFIX ex: <http://www.example.com#>\n",
    "        PREFIX prov: <http://www.w3.org/ns/prov#> \n",
    "        SELECT *\n",
    "        WHERE {\n",
    "            ?composition fnoc:represents ?rep .\n",
    "            ?composition fnoc:start ?start .\n",
    "        } \n",
    "        \"\"\"    \n",
    "\n",
    "    start_node_hierarchy = {}\n",
    "    for row in g.query(start_node_for_composition, initBindings={'composition': composition}):\n",
    "        start_node_hierarchy[row.rep] = row.start\n",
    "\n",
    "    return start_node_hierarchy"
   ]
  },
  {
   "cell_type": "code",
   "execution_count": 8,
   "id": "db9ff51b-bf9b-48f3-b318-ba97c35f935a",
   "metadata": {},
   "outputs": [],
   "source": [
    "def expand_layer_with_next_nodes(node):\n",
    "    expand_query = \"\"\"\n",
    "        PREFIX fno: <https://w3id.org/function/ontology#> \n",
    "        PREFIX fnoc: <https://w3id.org/function/vocabulary/composition#> \n",
    "        PREFIX ex: <http://www.example.com#>\n",
    "        PREFIX prov: <http://www.w3.org/ns/prov#> \n",
    "        SELECT *\n",
    "        WHERE {\n",
    "            ?node fnoc:next ?next .\n",
    "        } \n",
    "        \"\"\"\n",
    "\n",
    "    for row in g.query(expand_query, initBindings={'node': node}):\n",
    "        return row.next"
   ]
  },
  {
   "cell_type": "code",
   "execution_count": 9,
   "id": "e06df3ec-af8a-4fce-bfc9-a7e2693a9f7f",
   "metadata": {},
   "outputs": [],
   "source": [
    "def find_applies_for_node(node):\n",
    "    applies_query = \"\"\"\n",
    "        PREFIX fno: <https://w3id.org/function/ontology#> \n",
    "        PREFIX fnoc: <https://w3id.org/function/vocabulary/composition#> \n",
    "        PREFIX ex: <http://www.example.com#>\n",
    "        PREFIX prov: <http://www.w3.org/ns/prov#> \n",
    "        SELECT *\n",
    "        WHERE {\n",
    "            ?node fnoc:applies ?application .\n",
    "        } \n",
    "        \"\"\"\n",
    "\n",
    "    for row in g.query(applies_query, initBindings={'node': node}):\n",
    "        return node, row.application    "
   ]
  },
  {
   "cell_type": "code",
   "execution_count": 10,
   "id": "bc3cde9a-221d-44fb-98f0-0d9f286804c7",
   "metadata": {},
   "outputs": [],
   "source": [
    "def expand_reused_composition(application, function, temp):\n",
    "    #print(function)\n",
    "    if function in node_hierarchy.keys():\n",
    "        #print(node_hierarchy[function])\n",
    "        temp[application] = node_hierarchy[function]\n",
    "\n",
    "    return temp"
   ]
  },
  {
   "cell_type": "code",
   "execution_count": 11,
   "id": "efce8d21-ee89-4d0c-87c2-e51d1ff826fa",
   "metadata": {},
   "outputs": [],
   "source": [
    "def create_hier_tree(node_hierarchy, nodes_data):\n",
    "    #print(node_hierarchy)\n",
    "    #Create the necessary nodes\n",
    "    s = set()\n",
    "    #print(s)\n",
    "    for k in node_hierarchy.keys():\n",
    "        s.add(k)    \n",
    "        for value in node_hierarchy[key]:\n",
    "            s.add(value)\n",
    "    #print(s)\n",
    "\n",
    "    nodes = []\n",
    "    for node in s:\n",
    "        #print(node)\n",
    "        nodes.append({\"id\" : node})\n",
    "\n",
    "    #Do not ask me why, but without it, the graph is not plotted ... :-(\n",
    "    nodes.append({\"hidden\":True,\"id\":\"dummy\"})\n",
    "    \n",
    "    #print(nodes)\n",
    "    nodes_data[\"nodes\"] = nodes\n",
    "\n",
    "    links = []\n",
    "    #Create the necessary links between the nodes (NOT ports)\n",
    "    for k in node_hierarchy.keys():\n",
    "        for val in node_hierarchy[k]:\n",
    "            link = {\"source\": k, \"target\": val}\n",
    "            links.append(link)\n",
    "    nodes_data[\"links\"] = links    \n",
    "\n",
    "    return nodes_data"
   ]
  },
  {
   "cell_type": "code",
   "execution_count": 12,
   "id": "32e8a848-1e52-49dc-bcd3-2a1a7744453c",
   "metadata": {},
   "outputs": [],
   "source": [
    "def create_node_ports_with_labels():\n",
    "    labels = {}\n",
    "    \n",
    "    find_port_input_labels = \"\"\"\n",
    "        PREFIX fno: <https://w3id.org/function/ontology#> \n",
    "        PREFIX fnoc: <https://w3id.org/function/vocabulary/composition#> \n",
    "        PREFIX ex: <http://www.example.com#>\n",
    "        PREFIX prov: <http://www.w3.org/ns/prov#> \n",
    "        SELECT *\n",
    "        WHERE {\n",
    "            ?mapping a fno:Mapping .\n",
    "            ?mapping fno:parameterMapping ?paramMapping .\n",
    "            ?paramMapping fnom:functionParameter ?functionParameter .\n",
    "            ?paramMapping fnom:implementationProperty ?argument\n",
    "        } \n",
    "        \"\"\" \n",
    "\n",
    "    for row in g.query(find_port_input_labels):\n",
    "        print(row.paramMapping)\n",
    "        print(\"\\t\"+row.functionParameter)\n",
    "        print(\"\\t\"+row.argument)\n",
    "        labels[row.functionParameter] = row.argument.toPython()\n",
    "\n",
    "    find_port_output_labels = \"\"\"\n",
    "        PREFIX fno: <https://w3id.org/function/ontology#> \n",
    "        PREFIX fnoc: <https://w3id.org/function/vocabulary/composition#> \n",
    "        PREFIX ex: <http://www.example.com#>\n",
    "        PREFIX prov: <http://www.w3.org/ns/prov#> \n",
    "        SELECT *\n",
    "        WHERE {\n",
    "            ?mapping a fno:Mapping .\n",
    "            ?mapping fno:returnMapping ?returnMapping .\n",
    "            ?returnMapping fnom:functionOutput ?argument\n",
    "        } \n",
    "        \"\"\" \n",
    "\n",
    "    for row in g.query(find_port_output_labels):\n",
    "        print(row.returnMapping)\n",
    "        print(\"\\t\"+row.argument)\n",
    "        labels[row.argument] = \"out\"    \n",
    "\n",
    "    return labels"
   ]
  },
  {
   "cell_type": "code",
   "execution_count": 13,
   "id": "4a867b1f-0eea-4271-981d-d38fab978187",
   "metadata": {},
   "outputs": [],
   "source": [
    "def find_mappings_and_create_links():\n",
    "    links = []\n",
    "    links = find_mappings_and_create_links_input(links)\n",
    "    links = find_mappings_and_create_links_output_input(links)\n",
    "    return links"
   ]
  },
  {
   "cell_type": "code",
   "execution_count": 14,
   "id": "29077e19-d31c-4971-a59a-2d1c2d75491b",
   "metadata": {},
   "outputs": [],
   "source": [
    "def find_mappings_and_create_links_input(links):\n",
    "    mapping_query = \"\"\"\n",
    "        PREFIX fno: <https://w3id.org/function/ontology#> \n",
    "        PREFIX fnoc: <https://w3id.org/function/vocabulary/composition#> \n",
    "        PREFIX ex: <http://www.example.com#>\n",
    "        PREFIX prov: <http://www.w3.org/ns/prov#> \n",
    "        SELECT *\n",
    "        WHERE {\n",
    "            ?composition a fno:Composition .\n",
    "            ?composition fnoc:composedOf ?mapping .\n",
    "            ?mapping fnoc:mapFrom ?from .\n",
    "            ?from fnoc:constituentFunction ?source .\n",
    "            ?from fnoc:functionParameter ?sourcePort .\n",
    "            ?mapping fnoc:mapTo ?to .\n",
    "            ?to fnoc:constituentFunction ?target .\n",
    "            ?to fnoc:functionParameter ?targetPort .            \n",
    "        } \n",
    "        \"\"\"\n",
    "    for row in g.query(mapping_query):\n",
    "        print(\"\\nCOMPOSITION: \")\n",
    "        print(row.composition)\n",
    "        print(\"----------------------------------\")\n",
    "        print(\"MAPPING: \"+row.mapping)\n",
    "        print(\"sourcePort\")\n",
    "        print(\"\\t\"+row.sourcePort)\n",
    "        print(\"targetPort\")\n",
    "        print(\"\\t\"+row.targetPort)\n",
    "        print(\"source\")\n",
    "        print(\"\\t\"+row.source)\n",
    "        print(\"target\")\n",
    "        print(\"\\t\"+row.target)\n",
    "        links = create_link(links, row)\n",
    "\n",
    "    print(links)\n",
    "    return links"
   ]
  },
  {
   "cell_type": "code",
   "execution_count": 15,
   "id": "874b1e6c-5987-4e3f-b039-fb07ebf093fd",
   "metadata": {},
   "outputs": [],
   "source": [
    "def find_mappings_and_create_links_output_input(links):\n",
    "    mapping_query = \"\"\"\n",
    "        PREFIX fno: <https://w3id.org/function/ontology#> \n",
    "        PREFIX fnoc: <https://w3id.org/function/vocabulary/composition#> \n",
    "        PREFIX ex: <http://www.example.com#>\n",
    "        PREFIX prov: <http://www.w3.org/ns/prov#> \n",
    "        SELECT *\n",
    "        WHERE {\n",
    "            ?composition a fno:Composition .\n",
    "            ?composition fnoc:composedOf ?mapping .\n",
    "            ?mapping fnoc:mapFrom ?from .\n",
    "            ?from fnoc:constituentFunction ?source .\n",
    "            ?from fnoc:functionOutput ?sourcePort .\n",
    "            ?mapping fnoc:mapTo ?to .\n",
    "            ?to fnoc:constituentFunction ?target .\n",
    "            ?to fnoc:functionParameter ?targetPort .            \n",
    "        } \n",
    "        \"\"\"\n",
    "    for row in g.query(mapping_query):\n",
    "        print(\"\\nCOMPOSITION: \")\n",
    "        print(row.composition)\n",
    "        print(\"----------------------------------\")\n",
    "        print(\"MAPPING: \"+row.mapping)\n",
    "        print(\"sourcePort\")\n",
    "        print(\"\\t\"+row.sourcePort)\n",
    "        print(\"targetPort\")\n",
    "        print(\"\\t\"+row.targetPort)\n",
    "        print(\"source\")\n",
    "        print(\"\\t\"+row.source)\n",
    "        print(\"target\")\n",
    "        print(\"\\t\"+row.target)\n",
    "        links = create_link(links, row)\n",
    "\n",
    "    print(links)\n",
    "    return links"
   ]
  },
  {
   "cell_type": "code",
   "execution_count": 16,
   "id": "588c6499-4275-4b91-8866-77dbc86991f9",
   "metadata": {},
   "outputs": [],
   "source": [
    "def create_link(links, row):\n",
    "    link = {}\n",
    "    link[\"key\"] = len(links)\n",
    "    link[\"sourcePort\"] = row.sourcePort\n",
    "    link[\"targetPort\"] = row.targetPort\n",
    "    link[\"source\"] = row.source\n",
    "    link[\"target\"] = row.target\n",
    "    links.append(link)\n",
    "    return links"
   ]
  },
  {
   "cell_type": "code",
   "execution_count": 17,
   "id": "50c9af6c-ac50-42f6-9766-0f82de7915a7",
   "metadata": {},
   "outputs": [],
   "source": [
    "from rdflib import URIRef, BNode, Literal\n",
    "\n",
    "def check_and_percolate_dupplications(duplicate_function_mapping, links_data, node_hierarchy):\n",
    "    #print(duplicate_function_mapping)\n",
    "    #print()\n",
    "    duplicated_links_to_be_added = []\n",
    "    output_completed = []\n",
    "    count = 1\n",
    "    \n",
    "    for key, value in duplicate_function_mapping.items():\n",
    "        #print(\"CONSIDERING FOLLOWING KEY/VALUE PAIR\")\n",
    "        #print(key)\n",
    "        #print(value)\n",
    "\n",
    "        for link in links_data[\"links\"]:\n",
    "            #print(\"CHECKING LINK: \")\n",
    "            #print(link)\n",
    "            if link['target'] == value:\n",
    "                #print(\"FOUND LINK:\")\n",
    "                #print(link)\n",
    "\n",
    "                ##Find the correct source reference in node_hierarchy\n",
    "                for kk, vv in node_hierarchy.items():\n",
    "                    #print(\"CHECKING NODE HIERARCHY\")\n",
    "                    #print(kk)\n",
    "                    for m in vv:\n",
    "                        #print(m)\n",
    "                        if m == key:\n",
    "                            #print(\"MATCH\")\n",
    "                            #print(\"NEW LINK TO BE CREATED BETWEEN: \")\n",
    "                            #print(kk)\n",
    "                            #print(\" AND \")\n",
    "                            #print(key)\n",
    "                            duplicated_link = {}\n",
    "                            duplicated_link['sourcePort'] = link['sourcePort']\n",
    "                            duplicated_link['targetPort'] = link['targetPort']\n",
    "                            duplicated_link['source'] = kk               \n",
    "                            duplicated_link['target'] = key\n",
    "                            duplicated_link['key'] = count*1000\n",
    "                            print(duplicated_link)\n",
    "                            count = count + 1\n",
    "                            duplicated_links_to_be_added.append(duplicated_link)\n",
    "\n",
    "                            #OUTPUT LINK NEEDS TO BE ESTABLISHED AS WELL, in case not done yet\n",
    "                            if key not in output_completed:\n",
    "                                duplicated_link = {}\n",
    "                                duplicated_link['source'] = key\n",
    "                                duplicated_link['target'] = kk\n",
    "                                duplicated_link['sourcePort'] = link['sourcePort']+str(count)\n",
    "\n",
    "                                #find the correct output/result port of the node one level higher in the hierarchy\n",
    "                                targetPort = find_output_port_for_node(kk, links_data)\n",
    "                                #print(\"TARGETPORT: \")\n",
    "                                #print(targetPort)\n",
    "                                duplicated_link['targetPort'] = targetPort\n",
    "                                print(duplicated_link)\n",
    "                                count = count + 1\n",
    "                                duplicated_links_to_be_added.append(duplicated_link)\n",
    "                                output_completed.append(key)\n",
    "\n",
    "    #print(duplicated_links_to_be_added)\n",
    "    return(duplicated_links_to_be_added)                          "
   ]
  },
  {
   "cell_type": "code",
   "execution_count": 18,
   "id": "404f208a-fdd0-488d-9aae-20d217d9cdb6",
   "metadata": {},
   "outputs": [],
   "source": [
    "def find_output_port_for_node(node, links_data):\n",
    "    links = links_data[\"links\"]\n",
    "    for item in links:\n",
    "        if item['source'] == node:\n",
    "            return item['sourcePort']"
   ]
  },
  {
   "cell_type": "code",
   "execution_count": 19,
   "id": "e0c569bd-f5cf-4195-a7d5-742b652cd27a",
   "metadata": {},
   "outputs": [],
   "source": [
    "#MAIN\n",
    "#===="
   ]
  },
  {
   "cell_type": "code",
   "execution_count": 20,
   "id": "cfd5666f-d9e5-4a08-996c-1714f100c7e9",
   "metadata": {},
   "outputs": [
    {
     "name": "stdout",
     "output_type": "stream",
     "text": [
      "3\n"
     ]
    }
   ],
   "source": [
    "#1. Find layer-count in the collapsible hierarchy\n",
    "layer_count = find_layer_count()\n",
    "print(layer_count)"
   ]
  },
  {
   "cell_type": "code",
   "execution_count": 21,
   "id": "e9689196-4d75-428c-95a7-466fc1d1249b",
   "metadata": {},
   "outputs": [
    {
     "name": "stdout",
     "output_type": "stream",
     "text": [
      "[rdflib.term.URIRef('http://www.example.com#sum3Composition'), rdflib.term.URIRef('http://www.example.com#sumComposition')]\n"
     ]
    }
   ],
   "source": [
    "#2. Find all compositions\n",
    "compositions = find_compositions()\n",
    "print(compositions)"
   ]
  },
  {
   "cell_type": "code",
   "execution_count": 22,
   "id": "b7dfafdb-c1fd-412c-9f8a-f57d202f4c27",
   "metadata": {},
   "outputs": [
    {
     "name": "stdout",
     "output_type": "stream",
     "text": [
      "{rdflib.term.URIRef('http://www.example.com#sum3'): [rdflib.term.URIRef('http://www.example.com#sum_2'), rdflib.term.URIRef('http://www.example.com#sum_1')], rdflib.term.URIRef('http://www.example.com#sum'): [rdflib.term.URIRef('http://www.example.com#op_add_1')]}\n"
     ]
    }
   ],
   "source": [
    "#3. Initialise the hierarchy between the start-nodes\n",
    "\n",
    "node_hierarchy = {}\n",
    "function_input_parameter_mapping = {}\n",
    "node_function_mapping = {}\n",
    "\n",
    "for composition in compositions:\n",
    "    h = find_start_node_per_layer(composition)\n",
    "    for key, value in h.items():\n",
    "        # Access key and value\n",
    "        node_hierarchy[key] = [value]\n",
    "        next = expand_layer_with_next_nodes(value)\n",
    "        while next is not None:\n",
    "            node_hierarchy[key].append(next)\n",
    "            next = expand_layer_with_next_nodes(next)\n",
    "\n",
    "print(node_hierarchy)"
   ]
  },
  {
   "cell_type": "code",
   "execution_count": 23,
   "id": "8694e372-1dd8-40f0-9149-f1eb3affe848",
   "metadata": {},
   "outputs": [
    {
     "name": "stdout",
     "output_type": "stream",
     "text": [
      "\thttp://www.example.com#sum_2\n",
      "\t\thttp://www.example.com#op_add_1\n",
      "\thttp://www.example.com#sum_1\n",
      "\t\thttp://www.example.com#op_add_1\n",
      "{rdflib.term.URIRef('http://www.example.com#sum3'): [rdflib.term.URIRef('http://www.example.com#sum_2'), rdflib.term.URIRef('http://www.example.com#sum_1')], rdflib.term.URIRef('http://www.example.com#sum'): [rdflib.term.URIRef('http://www.example.com#op_add_1')], rdflib.term.URIRef('http://www.example.com#sum_2'): {rdflib.term.URIRef('http://www.example.com#op_add_1_1')}, rdflib.term.URIRef('http://www.example.com#sum_1'): {rdflib.term.URIRef('http://www.example.com#op_add_1_2')}}\n",
      "\n",
      "{rdflib.term.URIRef('http://www.example.com#sum_2'): rdflib.term.URIRef('http://www.example.com#sum'), rdflib.term.URIRef('http://www.example.com#sum_1'): rdflib.term.URIRef('http://www.example.com#sum'), rdflib.term.URIRef('http://www.example.com#op_add_1'): rdflib.term.URIRef('http://www.example.com#op_add')}\n",
      "\n",
      "{rdflib.term.URIRef('http://www.example.com#op_add_1_1'): rdflib.term.URIRef('http://www.example.com#op_add_1'), rdflib.term.URIRef('http://www.example.com#op_add_1_2'): rdflib.term.URIRef('http://www.example.com#op_add_1')}\n",
      "\n"
     ]
    }
   ],
   "source": [
    "#4. Checking for additional composition decompositions (cf. triple_sum > simple_dum > op_add)\n",
    "###########\n",
    "#IMPORTANT#\n",
    "###########\n",
    "\n",
    "#It seems that child-nodes cannot be linked to multiple parent-nodes. Thus, rather than re-using the existing nodes, we'll have to duplicate nodes if they are re-used in multiple 'applies' relations.\n",
    "\n",
    "temp = {}\n",
    "duplicate_function_mapping = {}\n",
    "\n",
    "#print(\"App\\nFunction\")\n",
    "for key in node_hierarchy:\n",
    "    for v in node_hierarchy[key]:\n",
    "        #print(key)\n",
    "        application,  node = find_applies_for_node(v)\n",
    "        #print(\"\\t\"+application)\n",
    "        #print(\"\\t\"+node)\n",
    "\n",
    "        temp = expand_reused_composition(application, node, temp)\n",
    "        node_function_mapping[application] = node\n",
    "\n",
    "#print()\n",
    "#print(temp)\n",
    "#print()\n",
    "\n",
    "count = 1;\n",
    "for key, value in temp.items():\n",
    "    print(\"\\t\"+key)\n",
    "    newSet = set()\n",
    "    for val in value:\n",
    "        print(\"\\t\\t\"+val)\n",
    "        newSet.add(val+\"_\"+str(count))       \n",
    "\n",
    "        #CREATE MAPPING BETWEEN DUPLICATED FUNCTION AND ORIGINAL FUNCTION\n",
    "        #Create mapping from the original (e.g. ex:op_add_1 to a list with e.g. [ex:op_add_1_1, ex:op_add_1_2])\n",
    "        duplicate_function_mapping[val+\"_\"+str(count)] = val\n",
    "\n",
    "        count = count + 1\n",
    "    \n",
    "    node_hierarchy[key] = newSet\n",
    "    \n",
    "print(node_hierarchy)\n",
    "print()\n",
    "print(node_function_mapping)\n",
    "print()\n",
    "print(duplicate_function_mapping)\n",
    "print()"
   ]
  },
  {
   "cell_type": "code",
   "execution_count": 24,
   "id": "3cab625c-717a-4e98-9e37-935060383782",
   "metadata": {},
   "outputs": [
    {
     "name": "stdout",
     "output_type": "stream",
     "text": [
      "{'directed': True, 'graph': {}, 'multigraph': False, 'nodes': [{'id': rdflib.term.URIRef('http://www.example.com#sum_2')}, {'id': rdflib.term.URIRef('http://www.example.com#op_add_1_2')}, {'id': rdflib.term.URIRef('http://www.example.com#sum')}, {'id': rdflib.term.URIRef('http://www.example.com#sum_1')}, {'id': rdflib.term.URIRef('http://www.example.com#sum3')}, {'hidden': True, 'id': 'dummy'}], 'links': [{'source': rdflib.term.URIRef('http://www.example.com#sum3'), 'target': rdflib.term.URIRef('http://www.example.com#sum_2')}, {'source': rdflib.term.URIRef('http://www.example.com#sum3'), 'target': rdflib.term.URIRef('http://www.example.com#sum_1')}, {'source': rdflib.term.URIRef('http://www.example.com#sum'), 'target': rdflib.term.URIRef('http://www.example.com#op_add_1')}, {'source': rdflib.term.URIRef('http://www.example.com#sum_2'), 'target': rdflib.term.URIRef('http://www.example.com#op_add_1_1')}, {'source': rdflib.term.URIRef('http://www.example.com#sum_1'), 'target': rdflib.term.URIRef('http://www.example.com#op_add_1_2')}]}\n"
     ]
    }
   ],
   "source": [
    "#5. ELKING those nodes\n",
    "nodes_data = {}\n",
    "nodes_data[\"directed\"] = True\n",
    "nodes_data[\"graph\"] = {}\n",
    "nodes_data[\"multigraph\"] = False\n",
    "\n",
    "nodes_data = create_hier_tree(node_hierarchy, nodes_data)\n",
    "\n",
    "print(nodes_data)"
   ]
  },
  {
   "cell_type": "code",
   "execution_count": 25,
   "id": "551bca08-f3e4-43b6-a4ef-4e9b0c80e92e",
   "metadata": {},
   "outputs": [
    {
     "name": "stdout",
     "output_type": "stream",
     "text": [
      "n77e3f47526404212b73b415687c09f6cb21\n",
      "\thttp://www.example.com#sum3Parameter0\n",
      "\ta\n",
      "n77e3f47526404212b73b415687c09f6cb25\n",
      "\thttp://www.example.com#sum3Parameter1\n",
      "\tb\n",
      "n77e3f47526404212b73b415687c09f6cb26\n",
      "\thttp://www.example.com#sum3Parameter2\n",
      "\tc\n",
      "n77e3f47526404212b73b415687c09f6cb38\n",
      "\thttp://www.example.com#sumParameter1\n",
      "\tb\n",
      "n77e3f47526404212b73b415687c09f6cb39\n",
      "\thttp://www.example.com#sumParameter0\n",
      "\ta\n",
      "n77e3f47526404212b73b415687c09f6cb4\n",
      "\thttp://www.example.com#op_addOutput\n",
      "n77e3f47526404212b73b415687c09f6cb27\n",
      "\thttp://www.example.com#sum3Output\n",
      "n77e3f47526404212b73b415687c09f6cb42\n",
      "\thttp://www.example.com#sumOutput\n",
      "{rdflib.term.URIRef('http://www.example.com#sum3Parameter0'): 'a', rdflib.term.URIRef('http://www.example.com#sum3Parameter1'): 'b', rdflib.term.URIRef('http://www.example.com#sum3Parameter2'): 'c', rdflib.term.URIRef('http://www.example.com#sumParameter1'): 'b', rdflib.term.URIRef('http://www.example.com#sumParameter0'): 'a', rdflib.term.URIRef('http://www.example.com#op_addOutput'): 'out', rdflib.term.URIRef('http://www.example.com#sum3Output'): 'out', rdflib.term.URIRef('http://www.example.com#sumOutput'): 'out'}\n"
     ]
    }
   ],
   "source": [
    "#7. Creating an inventory of all ports+labels to be created\n",
    "\n",
    "labels = create_node_ports_with_labels()\n",
    "print(labels)"
   ]
  },
  {
   "cell_type": "code",
   "execution_count": 26,
   "id": "7398cf2c-a9a3-4220-8a44-a2eda16b93c7",
   "metadata": {},
   "outputs": [
    {
     "name": "stdout",
     "output_type": "stream",
     "text": [
      "\n",
      "COMPOSITION: \n",
      "http://www.example.com#sum3Composition\n",
      "----------------------------------\n",
      "MAPPING: n77e3f47526404212b73b415687c09f6cb8\n",
      "sourcePort\n",
      "\thttp://www.example.com#sum3Parameter1\n",
      "targetPort\n",
      "\thttp://www.example.com#sumParameter1\n",
      "source\n",
      "\thttp://www.example.com#sum3\n",
      "target\n",
      "\thttp://www.example.com#sum_2\n",
      "\n",
      "COMPOSITION: \n",
      "http://www.example.com#sum3Composition\n",
      "----------------------------------\n",
      "MAPPING: n77e3f47526404212b73b415687c09f6cb11\n",
      "sourcePort\n",
      "\thttp://www.example.com#sum3Parameter2\n",
      "targetPort\n",
      "\thttp://www.example.com#sumParameter1\n",
      "source\n",
      "\thttp://www.example.com#sum3\n",
      "target\n",
      "\thttp://www.example.com#sum_1\n",
      "\n",
      "COMPOSITION: \n",
      "http://www.example.com#sum3Composition\n",
      "----------------------------------\n",
      "MAPPING: n77e3f47526404212b73b415687c09f6cb14\n",
      "sourcePort\n",
      "\thttp://www.example.com#sum3Parameter0\n",
      "targetPort\n",
      "\thttp://www.example.com#sumParameter0\n",
      "source\n",
      "\thttp://www.example.com#sum3\n",
      "target\n",
      "\thttp://www.example.com#sum_2\n",
      "\n",
      "COMPOSITION: \n",
      "http://www.example.com#sumComposition\n",
      "----------------------------------\n",
      "MAPPING: n77e3f47526404212b73b415687c09f6cb28\n",
      "sourcePort\n",
      "\thttp://www.example.com#sumParameter1\n",
      "targetPort\n",
      "\thttp://www.example.com#op_addParameter1\n",
      "source\n",
      "\thttp://www.example.com#sum\n",
      "target\n",
      "\thttp://www.example.com#op_add_1\n",
      "\n",
      "COMPOSITION: \n",
      "http://www.example.com#sumComposition\n",
      "----------------------------------\n",
      "MAPPING: n77e3f47526404212b73b415687c09f6cb31\n",
      "sourcePort\n",
      "\thttp://www.example.com#sumParameter0\n",
      "targetPort\n",
      "\thttp://www.example.com#op_addParameter0\n",
      "source\n",
      "\thttp://www.example.com#sum\n",
      "target\n",
      "\thttp://www.example.com#op_add_1\n",
      "[{'key': 0, 'sourcePort': rdflib.term.URIRef('http://www.example.com#sum3Parameter1'), 'targetPort': rdflib.term.URIRef('http://www.example.com#sumParameter1'), 'source': rdflib.term.URIRef('http://www.example.com#sum3'), 'target': rdflib.term.URIRef('http://www.example.com#sum_2')}, {'key': 1, 'sourcePort': rdflib.term.URIRef('http://www.example.com#sum3Parameter2'), 'targetPort': rdflib.term.URIRef('http://www.example.com#sumParameter1'), 'source': rdflib.term.URIRef('http://www.example.com#sum3'), 'target': rdflib.term.URIRef('http://www.example.com#sum_1')}, {'key': 2, 'sourcePort': rdflib.term.URIRef('http://www.example.com#sum3Parameter0'), 'targetPort': rdflib.term.URIRef('http://www.example.com#sumParameter0'), 'source': rdflib.term.URIRef('http://www.example.com#sum3'), 'target': rdflib.term.URIRef('http://www.example.com#sum_2')}, {'key': 3, 'sourcePort': rdflib.term.URIRef('http://www.example.com#sumParameter1'), 'targetPort': rdflib.term.URIRef('http://www.example.com#op_addParameter1'), 'source': rdflib.term.URIRef('http://www.example.com#sum'), 'target': rdflib.term.URIRef('http://www.example.com#op_add_1')}, {'key': 4, 'sourcePort': rdflib.term.URIRef('http://www.example.com#sumParameter0'), 'targetPort': rdflib.term.URIRef('http://www.example.com#op_addParameter0'), 'source': rdflib.term.URIRef('http://www.example.com#sum'), 'target': rdflib.term.URIRef('http://www.example.com#op_add_1')}]\n",
      "\n",
      "COMPOSITION: \n",
      "http://www.example.com#sum3Composition\n",
      "----------------------------------\n",
      "MAPPING: n77e3f47526404212b73b415687c09f6cb5\n",
      "sourcePort\n",
      "\thttp://www.example.com#sumOutput\n",
      "targetPort\n",
      "\thttp://www.example.com#sum3Output\n",
      "source\n",
      "\thttp://www.example.com#sum_1\n",
      "target\n",
      "\thttp://www.example.com#sum3\n",
      "\n",
      "COMPOSITION: \n",
      "http://www.example.com#sum3Composition\n",
      "----------------------------------\n",
      "MAPPING: n77e3f47526404212b73b415687c09f6cb17\n",
      "sourcePort\n",
      "\thttp://www.example.com#sumOutput\n",
      "targetPort\n",
      "\thttp://www.example.com#sumParameter0\n",
      "source\n",
      "\thttp://www.example.com#sum_2\n",
      "target\n",
      "\thttp://www.example.com#sum_1\n",
      "\n",
      "COMPOSITION: \n",
      "http://www.example.com#sumComposition\n",
      "----------------------------------\n",
      "MAPPING: n77e3f47526404212b73b415687c09f6cb34\n",
      "sourcePort\n",
      "\thttp://www.example.com#op_addOutput\n",
      "targetPort\n",
      "\thttp://www.example.com#sumOutput\n",
      "source\n",
      "\thttp://www.example.com#op_add_1\n",
      "target\n",
      "\thttp://www.example.com#sum\n",
      "[{'key': 0, 'sourcePort': rdflib.term.URIRef('http://www.example.com#sum3Parameter1'), 'targetPort': rdflib.term.URIRef('http://www.example.com#sumParameter1'), 'source': rdflib.term.URIRef('http://www.example.com#sum3'), 'target': rdflib.term.URIRef('http://www.example.com#sum_2')}, {'key': 1, 'sourcePort': rdflib.term.URIRef('http://www.example.com#sum3Parameter2'), 'targetPort': rdflib.term.URIRef('http://www.example.com#sumParameter1'), 'source': rdflib.term.URIRef('http://www.example.com#sum3'), 'target': rdflib.term.URIRef('http://www.example.com#sum_1')}, {'key': 2, 'sourcePort': rdflib.term.URIRef('http://www.example.com#sum3Parameter0'), 'targetPort': rdflib.term.URIRef('http://www.example.com#sumParameter0'), 'source': rdflib.term.URIRef('http://www.example.com#sum3'), 'target': rdflib.term.URIRef('http://www.example.com#sum_2')}, {'key': 3, 'sourcePort': rdflib.term.URIRef('http://www.example.com#sumParameter1'), 'targetPort': rdflib.term.URIRef('http://www.example.com#op_addParameter1'), 'source': rdflib.term.URIRef('http://www.example.com#sum'), 'target': rdflib.term.URIRef('http://www.example.com#op_add_1')}, {'key': 4, 'sourcePort': rdflib.term.URIRef('http://www.example.com#sumParameter0'), 'targetPort': rdflib.term.URIRef('http://www.example.com#op_addParameter0'), 'source': rdflib.term.URIRef('http://www.example.com#sum'), 'target': rdflib.term.URIRef('http://www.example.com#op_add_1')}, {'key': 5, 'sourcePort': rdflib.term.URIRef('http://www.example.com#sumOutput'), 'targetPort': rdflib.term.URIRef('http://www.example.com#sum3Output'), 'source': rdflib.term.URIRef('http://www.example.com#sum_1'), 'target': rdflib.term.URIRef('http://www.example.com#sum3')}, {'key': 6, 'sourcePort': rdflib.term.URIRef('http://www.example.com#sumOutput'), 'targetPort': rdflib.term.URIRef('http://www.example.com#sumParameter0'), 'source': rdflib.term.URIRef('http://www.example.com#sum_2'), 'target': rdflib.term.URIRef('http://www.example.com#sum_1')}, {'key': 7, 'sourcePort': rdflib.term.URIRef('http://www.example.com#op_addOutput'), 'targetPort': rdflib.term.URIRef('http://www.example.com#sumOutput'), 'source': rdflib.term.URIRef('http://www.example.com#op_add_1'), 'target': rdflib.term.URIRef('http://www.example.com#sum')}]\n",
      "{'directed': True, 'graph': {}, 'multigraph': True, 'nodes': [], 'links': [{'key': 0, 'sourcePort': rdflib.term.URIRef('http://www.example.com#sum3Parameter1'), 'targetPort': rdflib.term.URIRef('http://www.example.com#sumParameter1'), 'source': rdflib.term.URIRef('http://www.example.com#sum3'), 'target': rdflib.term.URIRef('http://www.example.com#sum_2')}, {'key': 1, 'sourcePort': rdflib.term.URIRef('http://www.example.com#sum3Parameter2'), 'targetPort': rdflib.term.URIRef('http://www.example.com#sumParameter1'), 'source': rdflib.term.URIRef('http://www.example.com#sum3'), 'target': rdflib.term.URIRef('http://www.example.com#sum_1')}, {'key': 2, 'sourcePort': rdflib.term.URIRef('http://www.example.com#sum3Parameter0'), 'targetPort': rdflib.term.URIRef('http://www.example.com#sumParameter0'), 'source': rdflib.term.URIRef('http://www.example.com#sum3'), 'target': rdflib.term.URIRef('http://www.example.com#sum_2')}, {'key': 3, 'sourcePort': rdflib.term.URIRef('http://www.example.com#sumParameter1'), 'targetPort': rdflib.term.URIRef('http://www.example.com#op_addParameter1'), 'source': rdflib.term.URIRef('http://www.example.com#sum'), 'target': rdflib.term.URIRef('http://www.example.com#op_add_1')}, {'key': 4, 'sourcePort': rdflib.term.URIRef('http://www.example.com#sumParameter0'), 'targetPort': rdflib.term.URIRef('http://www.example.com#op_addParameter0'), 'source': rdflib.term.URIRef('http://www.example.com#sum'), 'target': rdflib.term.URIRef('http://www.example.com#op_add_1')}, {'key': 5, 'sourcePort': rdflib.term.URIRef('http://www.example.com#sumOutput'), 'targetPort': rdflib.term.URIRef('http://www.example.com#sum3Output'), 'source': rdflib.term.URIRef('http://www.example.com#sum_1'), 'target': rdflib.term.URIRef('http://www.example.com#sum3')}, {'key': 6, 'sourcePort': rdflib.term.URIRef('http://www.example.com#sumOutput'), 'targetPort': rdflib.term.URIRef('http://www.example.com#sumParameter0'), 'source': rdflib.term.URIRef('http://www.example.com#sum_2'), 'target': rdflib.term.URIRef('http://www.example.com#sum_1')}, {'key': 7, 'sourcePort': rdflib.term.URIRef('http://www.example.com#op_addOutput'), 'targetPort': rdflib.term.URIRef('http://www.example.com#sumOutput'), 'source': rdflib.term.URIRef('http://www.example.com#op_add_1'), 'target': rdflib.term.URIRef('http://www.example.com#sum')}]}\n"
     ]
    }
   ],
   "source": [
    "#8. Establishing the dataflow links\n",
    "links_data = {}\n",
    "links_data[\"directed\"] = True\n",
    "links_data[\"graph\"] = {}\n",
    "links_data[\"multigraph\"] = True\n",
    "links_data[\"nodes\"] = []\n",
    "links_data[\"links\"] = []\n",
    "\n",
    "temp = find_mappings_and_create_links()\n",
    "#print(\"TEMP:\")\n",
    "#print(temp)\n",
    "links_data[\"links\"] = temp\n",
    "print(links_data)"
   ]
  },
  {
   "cell_type": "code",
   "execution_count": 27,
   "id": "7171e031-3b77-43c6-b3bb-ff90f33047b4",
   "metadata": {},
   "outputs": [
    {
     "name": "stdout",
     "output_type": "stream",
     "text": [
      "{'sourcePort': rdflib.term.URIRef('http://www.example.com#sumParameter1'), 'targetPort': rdflib.term.URIRef('http://www.example.com#op_addParameter1'), 'source': rdflib.term.URIRef('http://www.example.com#sum_2'), 'target': rdflib.term.URIRef('http://www.example.com#op_add_1_1'), 'key': 1000}\n",
      "{'source': rdflib.term.URIRef('http://www.example.com#op_add_1_1'), 'target': rdflib.term.URIRef('http://www.example.com#sum_2'), 'sourcePort': rdflib.term.URIRef('http://www.example.com#sumParameter12'), 'targetPort': rdflib.term.URIRef('http://www.example.com#sumOutput')}\n",
      "{'sourcePort': rdflib.term.URIRef('http://www.example.com#sumParameter0'), 'targetPort': rdflib.term.URIRef('http://www.example.com#op_addParameter0'), 'source': rdflib.term.URIRef('http://www.example.com#sum_2'), 'target': rdflib.term.URIRef('http://www.example.com#op_add_1_1'), 'key': 3000}\n",
      "{'sourcePort': rdflib.term.URIRef('http://www.example.com#sumParameter1'), 'targetPort': rdflib.term.URIRef('http://www.example.com#op_addParameter1'), 'source': rdflib.term.URIRef('http://www.example.com#sum_1'), 'target': rdflib.term.URIRef('http://www.example.com#op_add_1_2'), 'key': 4000}\n",
      "{'source': rdflib.term.URIRef('http://www.example.com#op_add_1_2'), 'target': rdflib.term.URIRef('http://www.example.com#sum_1'), 'sourcePort': rdflib.term.URIRef('http://www.example.com#sumParameter15'), 'targetPort': rdflib.term.URIRef('http://www.example.com#sumOutput')}\n",
      "{'sourcePort': rdflib.term.URIRef('http://www.example.com#sumParameter0'), 'targetPort': rdflib.term.URIRef('http://www.example.com#op_addParameter0'), 'source': rdflib.term.URIRef('http://www.example.com#sum_1'), 'target': rdflib.term.URIRef('http://www.example.com#op_add_1_2'), 'key': 6000}\n"
     ]
    }
   ],
   "source": [
    "#9. Ensure that the artifically added nodes are interlinked appropriately\n",
    "\n",
    "new_links_to_be_added = check_and_percolate_dupplications(duplicate_function_mapping, links_data, node_hierarchy)\n",
    "#print(new_links_to_be_added)\n",
    "final_links_list = links_data[\"links\"]\n",
    "\n",
    "for item in new_links_to_be_added:\n",
    "    final_links_list.append(item)\n",
    "\n",
    "#print(links_data)"
   ]
  },
  {
   "cell_type": "code",
   "execution_count": 28,
   "id": "5e696847-c44e-4f75-99ea-ca105433a1da",
   "metadata": {},
   "outputs": [],
   "source": [
    "#10. Persisting the ELK JSON for the collapsible hierarchy\n",
    "\n",
    "with open('nodes.json', 'w') as file1:\n",
    "    json.dump(nodes_data, file1)\n",
    "\n",
    "with open('links.json', 'w') as file2:\n",
    "    json.dump(links_data, file2)"
   ]
  },
  {
   "cell_type": "code",
   "execution_count": 29,
   "id": "510f21f5-d0e9-447f-9718-ca79fa5f4386",
   "metadata": {},
   "outputs": [],
   "source": [
    "#EXAMPLE FROM THE WEB\n",
    "#====================\n",
    "import networkx\n",
    "NX_VINFO = tuple(map(int, networkx.__version__.split(\".\")[:2]))\n",
    "NX_EDGES = \"edges\" if NX_VINFO >= (3, 4) else \"link\"\n",
    "from ipyelk.tools import ToggleCollapsedTool\n",
    "\n",
    "def a_hierarchical_elk_example(\n",
    "    tree: networkx.MultiDiGraph = None, ports: networkx.MultiDiGraph = None\n",
    "):\n",
    "    tree = tree or load_nx_graph(\"nodes.json\")\n",
    "    ports = ports or load_nx_graph(\"links.json\")\n",
    "    elk = ipyelk.from_nx(\n",
    "        graph=ports,\n",
    "        hierarchy=tree,\n",
    "        layout=dict(\n",
    "            min_height=\"200px\",\n",
    "            height=\"100%\",\n",
    "        ),\n",
    "    )\n",
    "    return elk"
   ]
  },
  {
   "cell_type": "code",
   "execution_count": 30,
   "id": "cf9fd1ef-313e-43d6-83cc-0307235599e4",
   "metadata": {},
   "outputs": [],
   "source": [
    "def load_nx_graph(filename: str) -> networkx.MultiDiGraph:\n",
    "    return networkx.readwrite.json_graph.node_link_graph(\n",
    "        json.loads(pathlib.Path(filename).resolve().read_text(encoding=\"utf-8\")),\n",
    "        **{NX_EDGES: \"links\"},\n",
    "    )"
   ]
  },
  {
   "cell_type": "code",
   "execution_count": 31,
   "id": "3c56d624-9f13-4867-b851-06c08dc5efee",
   "metadata": {},
   "outputs": [],
   "source": [
    "def a_collapsible_elk_example(elk=None):\n",
    "    elk = elk or a_hierarchical_elk_example()\n",
    "\n",
    "    collapser = elk.get_tool(ToggleCollapsedTool)\n",
    "    toggle = ipywidgets.Button(description=\"Toggle\")\n",
    "    toggle.on_click(collapser.handler)\n",
    "\n",
    "    box = ipywidgets.VBox(\n",
    "        [\n",
    "            ipywidgets.HBox([\n",
    "                ipywidgets.HTML(\"<h2>👇 click a group node then click 👉</h2>\"),\n",
    "                toggle,\n",
    "            ]),\n",
    "            elk,\n",
    "        ],\n",
    "        layout=dict(\n",
    "            min_height=\"500px\",\n",
    "            height=\"100%\",\n",
    "        ),\n",
    "    )\n",
    "    return box, elk"
   ]
  },
  {
   "cell_type": "code",
   "execution_count": 32,
   "id": "b0934fe7-8a58-46bc-98c4-06473e88246d",
   "metadata": {},
   "outputs": [
    {
     "data": {
      "application/vnd.jupyter.widget-view+json": {
       "model_id": "3f214b6144d74842bc7880a01ea0bced",
       "version_major": 2,
       "version_minor": 0
      },
      "text/plain": [
       "VBox(children=(HBox(children=(HTML(value='<h2>👇 click a group node then click 👉</h2>'), Button(description='To…"
      ]
     },
     "metadata": {},
     "output_type": "display_data"
    }
   ],
   "source": [
    "hier_box, hier_elk = a_collapsible_elk_example()\n",
    "display(hier_box)"
   ]
  },
  {
   "cell_type": "code",
   "execution_count": null,
   "id": "156c1aa8-6325-4e4b-b43c-e34286c7279a",
   "metadata": {},
   "outputs": [],
   "source": []
  },
  {
   "cell_type": "code",
   "execution_count": null,
   "id": "fe4308ca-eed1-47a2-adc2-143b73a24475",
   "metadata": {},
   "outputs": [],
   "source": []
  },
  {
   "cell_type": "code",
   "execution_count": null,
   "id": "214f0656-0988-465d-ad9f-094b42cbfa4d",
   "metadata": {},
   "outputs": [],
   "source": []
  },
  {
   "cell_type": "code",
   "execution_count": 33,
   "id": "6b28c0bf-2ed5-4b96-9e8c-9ff7813cd07e",
   "metadata": {},
   "outputs": [],
   "source": [
    "#SCRATCHPAD\n",
    "#================================================================================="
   ]
  },
  {
   "cell_type": "code",
   "execution_count": 34,
   "id": "1de3efb6-e4d6-4105-8c9b-e156392c1bbc",
   "metadata": {},
   "outputs": [
    {
     "name": "stdout",
     "output_type": "stream",
     "text": [
      "3\n"
     ]
    }
   ],
   "source": [
    "#TEST find_layer_count\n",
    "print(find_layer_count())"
   ]
  },
  {
   "cell_type": "code",
   "execution_count": 35,
   "id": "75151e5c-0f17-4d89-902d-baf06c450287",
   "metadata": {},
   "outputs": [
    {
     "name": "stdout",
     "output_type": "stream",
     "text": [
      "[rdflib.term.URIRef('http://www.example.com#sum3Composition'), rdflib.term.URIRef('http://www.example.com#sumComposition')]\n"
     ]
    }
   ],
   "source": [
    "#TEST find_compositions\n",
    "print(find_compositions())"
   ]
  },
  {
   "cell_type": "code",
   "execution_count": 36,
   "id": "ffba763d-87bc-4558-af41-bb9754ca5f7c",
   "metadata": {},
   "outputs": [
    {
     "name": "stdout",
     "output_type": "stream",
     "text": [
      "{rdflib.term.URIRef('http://www.example.com#sum3'): rdflib.term.URIRef('http://www.example.com#sum_2')}\n"
     ]
    }
   ],
   "source": [
    "#TEST find_start_node_per_layer\n",
    "print(find_start_node_per_layer(compositions[0]))"
   ]
  },
  {
   "cell_type": "code",
   "execution_count": 37,
   "id": "6a3defa1-c9cb-42f9-8fde-d73df22644a2",
   "metadata": {},
   "outputs": [],
   "source": [
    "def find_function_definition_for_node(node):\n",
    "    query = \"\"\"\n",
    "        PREFIX fno: <https://w3id.org/function/ontology#> \n",
    "        PREFIX fnoc: <https://w3id.org/function/vocabulary/composition#> \n",
    "        PREFIX ex: <http://www.example.com#>\n",
    "        PREFIX prov: <http://www.w3.org/ns/prov#> \n",
    "        SELECT *\n",
    "        WHERE {\n",
    "            ?node fnoc:applies ?function .\n",
    "        } \n",
    "        \"\"\"\n",
    "\n",
    "    for row in g.query(query, initBindings={'node': node}):\n",
    "        return row.function"
   ]
  },
  {
   "cell_type": "code",
   "execution_count": 38,
   "id": "39701b3f-35ed-47d3-a44e-e09b6ae61240",
   "metadata": {},
   "outputs": [],
   "source": [
    "def find_input_parameters_for_function(function):\n",
    "    query = \"\"\"\n",
    "        PREFIX fno: <https://w3id.org/function/ontology#> \n",
    "        PREFIX fnoc: <https://w3id.org/function/vocabulary/composition#> \n",
    "        PREFIX ex: <http://www.example.com#>\n",
    "        PREFIX prov: <http://www.w3.org/ns/prov#> \n",
    "        SELECT *\n",
    "        WHERE {\n",
    "            ?x fnoc:constituentFunction ?function .\n",
    "            ?x fnoc:functionParameter ?parameter\n",
    "        } \n",
    "        \"\"\"\n",
    "\n",
    "    print(function)\n",
    "    function_input_parameter_mapping[function] = set()\n",
    "    for row in g.query(query, initBindings={'function': function}):\n",
    "        print(\"\\t\"+row.parameter)\n",
    "        function_input_parameter_mapping[function].add(row.parameter)\n",
    "\n",
    "    return function_input_parameter_mapping"
   ]
  },
  {
   "cell_type": "code",
   "execution_count": 39,
   "id": "f313f96e-ebae-45aa-9ca5-bafd14205d36",
   "metadata": {},
   "outputs": [],
   "source": [
    "#TEST"
   ]
  },
  {
   "cell_type": "code",
   "execution_count": 40,
   "id": "d5b8e5ad-76d0-4e30-a3b5-1752681cefe6",
   "metadata": {},
   "outputs": [
    {
     "name": "stdout",
     "output_type": "stream",
     "text": [
      "{'nodes': [{'id': rdflib.term.URIRef('http://www.example.com#sum_2')}, {'id': rdflib.term.URIRef('http://www.example.com#op_add_1_2')}, {'id': rdflib.term.URIRef('http://www.example.com#sum')}, {'id': rdflib.term.URIRef('http://www.example.com#sum_1')}, {'id': rdflib.term.URIRef('http://www.example.com#sum3')}, {'hidden': True, 'id': 'dummy'}], 'links': [{'source': rdflib.term.URIRef('http://www.example.com#sum3'), 'target': rdflib.term.URIRef('http://www.example.com#sum_2')}, {'source': rdflib.term.URIRef('http://www.example.com#sum3'), 'target': rdflib.term.URIRef('http://www.example.com#sum_1')}, {'source': rdflib.term.URIRef('http://www.example.com#sum'), 'target': rdflib.term.URIRef('http://www.example.com#op_add_1')}, {'source': rdflib.term.URIRef('http://www.example.com#sum_2'), 'target': rdflib.term.URIRef('http://www.example.com#op_add_1_1')}, {'source': rdflib.term.URIRef('http://www.example.com#sum_1'), 'target': rdflib.term.URIRef('http://www.example.com#op_add_1_2')}]}\n"
     ]
    }
   ],
   "source": [
    "#TEST\n",
    "print(create_hier_tree(node_hierarchy, {}))"
   ]
  },
  {
   "cell_type": "code",
   "execution_count": 41,
   "id": "d810e1bf-dafc-4d77-bbfe-1b7dc2e50714",
   "metadata": {},
   "outputs": [],
   "source": [
    "#TEST"
   ]
  },
  {
   "cell_type": "code",
   "execution_count": 42,
   "id": "f67757b2-a33e-44dd-8f1a-7ee299162c03",
   "metadata": {},
   "outputs": [],
   "source": [
    "#TEST"
   ]
  },
  {
   "cell_type": "code",
   "execution_count": 43,
   "id": "32ed1586-d53f-4019-8a4a-06ba117ec154",
   "metadata": {},
   "outputs": [
    {
     "name": "stdout",
     "output_type": "stream",
     "text": [
      "n77e3f47526404212b73b415687c09f6cb21\n",
      "\thttp://www.example.com#sum3Parameter0\n",
      "\ta\n",
      "n77e3f47526404212b73b415687c09f6cb25\n",
      "\thttp://www.example.com#sum3Parameter1\n",
      "\tb\n",
      "n77e3f47526404212b73b415687c09f6cb26\n",
      "\thttp://www.example.com#sum3Parameter2\n",
      "\tc\n",
      "n77e3f47526404212b73b415687c09f6cb38\n",
      "\thttp://www.example.com#sumParameter1\n",
      "\tb\n",
      "n77e3f47526404212b73b415687c09f6cb39\n",
      "\thttp://www.example.com#sumParameter0\n",
      "\ta\n",
      "n77e3f47526404212b73b415687c09f6cb4\n",
      "\thttp://www.example.com#op_addOutput\n",
      "n77e3f47526404212b73b415687c09f6cb27\n",
      "\thttp://www.example.com#sum3Output\n",
      "n77e3f47526404212b73b415687c09f6cb42\n",
      "\thttp://www.example.com#sumOutput\n"
     ]
    },
    {
     "data": {
      "text/plain": [
       "{rdflib.term.URIRef('http://www.example.com#sum3Parameter0'): 'a',\n",
       " rdflib.term.URIRef('http://www.example.com#sum3Parameter1'): 'b',\n",
       " rdflib.term.URIRef('http://www.example.com#sum3Parameter2'): 'c',\n",
       " rdflib.term.URIRef('http://www.example.com#sumParameter1'): 'b',\n",
       " rdflib.term.URIRef('http://www.example.com#sumParameter0'): 'a',\n",
       " rdflib.term.URIRef('http://www.example.com#op_addOutput'): 'out',\n",
       " rdflib.term.URIRef('http://www.example.com#sum3Output'): 'out',\n",
       " rdflib.term.URIRef('http://www.example.com#sumOutput'): 'out'}"
      ]
     },
     "execution_count": 43,
     "metadata": {},
     "output_type": "execute_result"
    }
   ],
   "source": [
    "#TEST\n",
    "create_node_ports_with_labels()"
   ]
  },
  {
   "cell_type": "code",
   "execution_count": 44,
   "id": "44a091fa-9942-4c67-8d0d-ce3ee805b922",
   "metadata": {},
   "outputs": [],
   "source": [
    "def link_parameter_flow(node_hierarchy, links_data, source, target):\n",
    "    print(\"S\")\n",
    "    print(source)\n",
    "    find_composition_query = \"\"\"\n",
    "        PREFIX fno: <https://w3id.org/function/ontology#> \n",
    "        PREFIX fnoc: <https://w3id.org/function/vocabulary/composition#> \n",
    "        PREFIX ex: <http://www.example.com#>\n",
    "        PREFIX prov: <http://www.w3.org/ns/prov#> \n",
    "        SELECT *\n",
    "        WHERE {\n",
    "            ?composition fnoc:represents ?source\n",
    "        } \n",
    "        \"\"\"    \n",
    "\n",
    "    for row in g.query(find_composition_query):\n",
    "        print(\"C\")\n",
    "        print(row.composition)\n",
    "        #CASE 1: DATA-FLOW between HIERARCHICAL LEVELS INPUT\n",
    "        links_data = link_parameter_flow_for_source_target_in_composition(node_hierarchy, links_data, source, target, row.composition)\n",
    "        #print(\"LINKS DATA AFTER CASE 1:\")\n",
    "        #print(links_data)\n",
    "        #CASE 2: DATA-FLOW between HIERARCHICAL LEVELS OUTPUT\n",
    "        #links_data = link_output_flow_for_soure_target_in_composition(node_hierarchy, links_data, target, source, row.composition)\n",
    "        #CASE 3: DATA-FLOW on the same HIERARCHICAL LEVEL OUTPUT to INPUT (the two entities(nodes) should be checked upon in the node_hierarchy tree to check whether they're not hierarchically connected\n",
    "        #links_data = link_input_output_flow_in_composition(node_hierarchy, links_data, row.composition)\n",
    "    \n",
    "    return links_data"
   ]
  },
  {
   "cell_type": "code",
   "execution_count": 45,
   "id": "e369fee5-0d9a-47d7-a602-b38645d3dd3a",
   "metadata": {},
   "outputs": [],
   "source": [
    "#composition_function_mapping = {}\n",
    "#function_parameter_property_mapping = {}\n",
    "#function_parameter_position_mapping = {}\n",
    "\n",
    "def link_parameter_flow_for_source_target_in_composition(node_hierarchy, links_data, source, target, composition):\n",
    "    print(\"[link_parameter_flow_for_source_target_in_composition] S:\")\n",
    "    print(source)\n",
    "    parameter_input_query = \"\"\"\n",
    "        PREFIX fno: <https://w3id.org/function/ontology#> \n",
    "        PREFIX fnoc: <https://w3id.org/function/vocabulary/composition#> \n",
    "        PREFIX ex: <http://www.example.com#>\n",
    "        PREFIX prov: <http://www.w3.org/ns/prov#> \n",
    "        SELECT *\n",
    "        WHERE {\n",
    "            ?composition a fno:Composition .\n",
    "            ?composition fnoc:composedOf ?mapping .\n",
    "            ?mapping fnoc:mapFrom ?from .\n",
    "            ?from fnoc:constituentFunction ?function .\n",
    "            ?from fnoc:functionParameter ?parameter            \n",
    "        } \n",
    "        \"\"\"\n",
    "\n",
    "    for row in g.query(parameter_input_query):\n",
    "        print(row.composition)\n",
    "        print(\"\\t\"+row.function)\n",
    "        print(\"\\t\"+row.parameter)\n",
    "\n",
    "        if row.composition not in composition_function_mapping.keys():\n",
    "            composition_function_mapping[row.composition] = set()\n",
    "        composition_function_mapping[row.composition].add(row.function)\n",
    "\n",
    "        if row.function not in function_parameter_property_mapping.keys():\n",
    "            function_parameter_property_mapping[row.function] = set()\n",
    "        function_parameter_property_mapping[row.function].add(row.parameter)\n",
    "\n",
    "    print(\"INFORMATION REPOSITORY\")\n",
    "    print(composition_function_mapping)\n",
    "    print(function_parameter_property_mapping)\n",
    "    print(\"========================\")"
   ]
  },
  {
   "cell_type": "code",
   "execution_count": 46,
   "id": "948c60a8-3e7d-4c68-84a5-9610f01e7c4b",
   "metadata": {},
   "outputs": [],
   "source": [
    "#Method to initialise the port definitions on the nodes/TBD: between the nodes\n",
    "#==============================================================================\n",
    "\n",
    "def create_port_port_elk(char, input_links, links_data):\n",
    "    #Create the necessary links\n",
    "    print(\"=============================================\")\n",
    "    print(links_data)\n",
    "    print(\"=============================================\")\n",
    "    links = links_data[\"links\"]\n",
    "    print(links)\n",
    "    print(\"=============================================\")\n",
    "    index = 0;\n",
    "    \n",
    "    for key in input_links.keys():\n",
    "        print(\"\\nkey\")\n",
    "        print(key)\n",
    "        child = { \"sourcePort\": char, \"targetPort\": char, \"source\": source, \"target\": target, \"key\": index }\n",
    "        index = index +1\n",
    "        links.append(child)\n",
    "        ## converting char into int\n",
    "        i = ord(char[0])\n",
    "\n",
    "        ## we can add any number if we want\n",
    "        ## incrementing\n",
    "        i += 1\n",
    "\n",
    "        ## casting the resultant int to char\n",
    "        ## we will get 'u'\n",
    "        char = chr(i)\n",
    "\n",
    "    print(links)\n",
    "    links_data[\"links\"] = links\n",
    "\n",
    "    return links_data"
   ]
  },
  {
   "cell_type": "code",
   "execution_count": 47,
   "id": "5b490c08-34f5-416d-acb9-b926c1e17451",
   "metadata": {},
   "outputs": [
    {
     "name": "stdout",
     "output_type": "stream",
     "text": [
      "{'sourcePort': rdflib.term.URIRef('http://www.example.com#sumParameter1'), 'targetPort': rdflib.term.URIRef('http://www.example.com#op_addParameter1'), 'source': rdflib.term.URIRef('http://www.example.com#sum_2'), 'target': rdflib.term.URIRef('http://www.example.com#op_add_1_1'), 'key': 1000}\n",
      "{'source': rdflib.term.URIRef('http://www.example.com#op_add_1_1'), 'target': rdflib.term.URIRef('http://www.example.com#sum_2'), 'sourcePort': rdflib.term.URIRef('http://www.example.com#sumParameter12'), 'targetPort': rdflib.term.URIRef('http://www.example.com#sumOutput')}\n",
      "{'sourcePort': rdflib.term.URIRef('http://www.example.com#sumParameter0'), 'targetPort': rdflib.term.URIRef('http://www.example.com#op_addParameter0'), 'source': rdflib.term.URIRef('http://www.example.com#sum_2'), 'target': rdflib.term.URIRef('http://www.example.com#op_add_1_1'), 'key': 3000}\n",
      "{'sourcePort': rdflib.term.URIRef('http://www.example.com#sumParameter1'), 'targetPort': rdflib.term.URIRef('http://www.example.com#op_addParameter1'), 'source': rdflib.term.URIRef('http://www.example.com#sum_1'), 'target': rdflib.term.URIRef('http://www.example.com#op_add_1_2'), 'key': 4000}\n",
      "{'source': rdflib.term.URIRef('http://www.example.com#op_add_1_2'), 'target': rdflib.term.URIRef('http://www.example.com#sum_1'), 'sourcePort': rdflib.term.URIRef('http://www.example.com#sumParameter15'), 'targetPort': rdflib.term.URIRef('http://www.example.com#sumOutput')}\n",
      "{'sourcePort': rdflib.term.URIRef('http://www.example.com#sumParameter0'), 'targetPort': rdflib.term.URIRef('http://www.example.com#op_addParameter0'), 'source': rdflib.term.URIRef('http://www.example.com#sum_1'), 'target': rdflib.term.URIRef('http://www.example.com#op_add_1_2'), 'key': 6000}\n",
      "[{'sourcePort': rdflib.term.URIRef('http://www.example.com#sumParameter1'), 'targetPort': rdflib.term.URIRef('http://www.example.com#op_addParameter1'), 'source': rdflib.term.URIRef('http://www.example.com#sum_2'), 'target': rdflib.term.URIRef('http://www.example.com#op_add_1_1'), 'key': 1000}, {'source': rdflib.term.URIRef('http://www.example.com#op_add_1_1'), 'target': rdflib.term.URIRef('http://www.example.com#sum_2'), 'sourcePort': rdflib.term.URIRef('http://www.example.com#sumParameter12'), 'targetPort': rdflib.term.URIRef('http://www.example.com#sumOutput')}, {'sourcePort': rdflib.term.URIRef('http://www.example.com#sumParameter0'), 'targetPort': rdflib.term.URIRef('http://www.example.com#op_addParameter0'), 'source': rdflib.term.URIRef('http://www.example.com#sum_2'), 'target': rdflib.term.URIRef('http://www.example.com#op_add_1_1'), 'key': 3000}, {'sourcePort': rdflib.term.URIRef('http://www.example.com#sumParameter1'), 'targetPort': rdflib.term.URIRef('http://www.example.com#op_addParameter1'), 'source': rdflib.term.URIRef('http://www.example.com#sum_1'), 'target': rdflib.term.URIRef('http://www.example.com#op_add_1_2'), 'key': 4000}, {'source': rdflib.term.URIRef('http://www.example.com#op_add_1_2'), 'target': rdflib.term.URIRef('http://www.example.com#sum_1'), 'sourcePort': rdflib.term.URIRef('http://www.example.com#sumParameter15'), 'targetPort': rdflib.term.URIRef('http://www.example.com#sumOutput')}, {'sourcePort': rdflib.term.URIRef('http://www.example.com#sumParameter0'), 'targetPort': rdflib.term.URIRef('http://www.example.com#op_addParameter0'), 'source': rdflib.term.URIRef('http://www.example.com#sum_1'), 'target': rdflib.term.URIRef('http://www.example.com#op_add_1_2'), 'key': 6000}]\n"
     ]
    }
   ],
   "source": [
    "print(check_and_percolate_dupplications(duplicate_function_mapping, links_data, node_hierarchy))"
   ]
  },
  {
   "cell_type": "code",
   "execution_count": 48,
   "id": "b22756ed-ac39-4c27-a2e7-1e796fe5b39b",
   "metadata": {},
   "outputs": [
    {
     "name": "stdout",
     "output_type": "stream",
     "text": [
      "\n",
      "COMPOSITION: \n",
      "http://www.example.com#sum3Composition\n",
      "----------------------------------\n",
      "MAPPING: n77e3f47526404212b73b415687c09f6cb8\n",
      "sourcePort\n",
      "\thttp://www.example.com#sum3Parameter1\n",
      "targetPort\n",
      "\thttp://www.example.com#sumParameter1\n",
      "source\n",
      "\thttp://www.example.com#sum3\n",
      "target\n",
      "\thttp://www.example.com#sum_2\n",
      "\n",
      "COMPOSITION: \n",
      "http://www.example.com#sum3Composition\n",
      "----------------------------------\n",
      "MAPPING: n77e3f47526404212b73b415687c09f6cb11\n",
      "sourcePort\n",
      "\thttp://www.example.com#sum3Parameter2\n",
      "targetPort\n",
      "\thttp://www.example.com#sumParameter1\n",
      "source\n",
      "\thttp://www.example.com#sum3\n",
      "target\n",
      "\thttp://www.example.com#sum_1\n",
      "\n",
      "COMPOSITION: \n",
      "http://www.example.com#sum3Composition\n",
      "----------------------------------\n",
      "MAPPING: n77e3f47526404212b73b415687c09f6cb14\n",
      "sourcePort\n",
      "\thttp://www.example.com#sum3Parameter0\n",
      "targetPort\n",
      "\thttp://www.example.com#sumParameter0\n",
      "source\n",
      "\thttp://www.example.com#sum3\n",
      "target\n",
      "\thttp://www.example.com#sum_2\n",
      "\n",
      "COMPOSITION: \n",
      "http://www.example.com#sumComposition\n",
      "----------------------------------\n",
      "MAPPING: n77e3f47526404212b73b415687c09f6cb28\n",
      "sourcePort\n",
      "\thttp://www.example.com#sumParameter1\n",
      "targetPort\n",
      "\thttp://www.example.com#op_addParameter1\n",
      "source\n",
      "\thttp://www.example.com#sum\n",
      "target\n",
      "\thttp://www.example.com#op_add_1\n",
      "\n",
      "COMPOSITION: \n",
      "http://www.example.com#sumComposition\n",
      "----------------------------------\n",
      "MAPPING: n77e3f47526404212b73b415687c09f6cb31\n",
      "sourcePort\n",
      "\thttp://www.example.com#sumParameter0\n",
      "targetPort\n",
      "\thttp://www.example.com#op_addParameter0\n",
      "source\n",
      "\thttp://www.example.com#sum\n",
      "target\n",
      "\thttp://www.example.com#op_add_1\n",
      "[{'key': 0, 'sourcePort': rdflib.term.URIRef('http://www.example.com#sum3Parameter1'), 'targetPort': rdflib.term.URIRef('http://www.example.com#sumParameter1'), 'source': rdflib.term.URIRef('http://www.example.com#sum3'), 'target': rdflib.term.URIRef('http://www.example.com#sum_2')}, {'key': 1, 'sourcePort': rdflib.term.URIRef('http://www.example.com#sum3Parameter2'), 'targetPort': rdflib.term.URIRef('http://www.example.com#sumParameter1'), 'source': rdflib.term.URIRef('http://www.example.com#sum3'), 'target': rdflib.term.URIRef('http://www.example.com#sum_1')}, {'key': 2, 'sourcePort': rdflib.term.URIRef('http://www.example.com#sum3Parameter0'), 'targetPort': rdflib.term.URIRef('http://www.example.com#sumParameter0'), 'source': rdflib.term.URIRef('http://www.example.com#sum3'), 'target': rdflib.term.URIRef('http://www.example.com#sum_2')}, {'key': 3, 'sourcePort': rdflib.term.URIRef('http://www.example.com#sumParameter1'), 'targetPort': rdflib.term.URIRef('http://www.example.com#op_addParameter1'), 'source': rdflib.term.URIRef('http://www.example.com#sum'), 'target': rdflib.term.URIRef('http://www.example.com#op_add_1')}, {'key': 4, 'sourcePort': rdflib.term.URIRef('http://www.example.com#sumParameter0'), 'targetPort': rdflib.term.URIRef('http://www.example.com#op_addParameter0'), 'source': rdflib.term.URIRef('http://www.example.com#sum'), 'target': rdflib.term.URIRef('http://www.example.com#op_add_1')}]\n",
      "\n",
      "COMPOSITION: \n",
      "http://www.example.com#sum3Composition\n",
      "----------------------------------\n",
      "MAPPING: n77e3f47526404212b73b415687c09f6cb5\n",
      "sourcePort\n",
      "\thttp://www.example.com#sumOutput\n",
      "targetPort\n",
      "\thttp://www.example.com#sum3Output\n",
      "source\n",
      "\thttp://www.example.com#sum_1\n",
      "target\n",
      "\thttp://www.example.com#sum3\n",
      "\n",
      "COMPOSITION: \n",
      "http://www.example.com#sum3Composition\n",
      "----------------------------------\n",
      "MAPPING: n77e3f47526404212b73b415687c09f6cb17\n",
      "sourcePort\n",
      "\thttp://www.example.com#sumOutput\n",
      "targetPort\n",
      "\thttp://www.example.com#sumParameter0\n",
      "source\n",
      "\thttp://www.example.com#sum_2\n",
      "target\n",
      "\thttp://www.example.com#sum_1\n",
      "\n",
      "COMPOSITION: \n",
      "http://www.example.com#sumComposition\n",
      "----------------------------------\n",
      "MAPPING: n77e3f47526404212b73b415687c09f6cb34\n",
      "sourcePort\n",
      "\thttp://www.example.com#op_addOutput\n",
      "targetPort\n",
      "\thttp://www.example.com#sumOutput\n",
      "source\n",
      "\thttp://www.example.com#op_add_1\n",
      "target\n",
      "\thttp://www.example.com#sum\n",
      "[{'key': 0, 'sourcePort': rdflib.term.URIRef('http://www.example.com#sum3Parameter1'), 'targetPort': rdflib.term.URIRef('http://www.example.com#sumParameter1'), 'source': rdflib.term.URIRef('http://www.example.com#sum3'), 'target': rdflib.term.URIRef('http://www.example.com#sum_2')}, {'key': 1, 'sourcePort': rdflib.term.URIRef('http://www.example.com#sum3Parameter2'), 'targetPort': rdflib.term.URIRef('http://www.example.com#sumParameter1'), 'source': rdflib.term.URIRef('http://www.example.com#sum3'), 'target': rdflib.term.URIRef('http://www.example.com#sum_1')}, {'key': 2, 'sourcePort': rdflib.term.URIRef('http://www.example.com#sum3Parameter0'), 'targetPort': rdflib.term.URIRef('http://www.example.com#sumParameter0'), 'source': rdflib.term.URIRef('http://www.example.com#sum3'), 'target': rdflib.term.URIRef('http://www.example.com#sum_2')}, {'key': 3, 'sourcePort': rdflib.term.URIRef('http://www.example.com#sumParameter1'), 'targetPort': rdflib.term.URIRef('http://www.example.com#op_addParameter1'), 'source': rdflib.term.URIRef('http://www.example.com#sum'), 'target': rdflib.term.URIRef('http://www.example.com#op_add_1')}, {'key': 4, 'sourcePort': rdflib.term.URIRef('http://www.example.com#sumParameter0'), 'targetPort': rdflib.term.URIRef('http://www.example.com#op_addParameter0'), 'source': rdflib.term.URIRef('http://www.example.com#sum'), 'target': rdflib.term.URIRef('http://www.example.com#op_add_1')}, {'key': 5, 'sourcePort': rdflib.term.URIRef('http://www.example.com#sumOutput'), 'targetPort': rdflib.term.URIRef('http://www.example.com#sum3Output'), 'source': rdflib.term.URIRef('http://www.example.com#sum_1'), 'target': rdflib.term.URIRef('http://www.example.com#sum3')}, {'key': 6, 'sourcePort': rdflib.term.URIRef('http://www.example.com#sumOutput'), 'targetPort': rdflib.term.URIRef('http://www.example.com#sumParameter0'), 'source': rdflib.term.URIRef('http://www.example.com#sum_2'), 'target': rdflib.term.URIRef('http://www.example.com#sum_1')}, {'key': 7, 'sourcePort': rdflib.term.URIRef('http://www.example.com#op_addOutput'), 'targetPort': rdflib.term.URIRef('http://www.example.com#sumOutput'), 'source': rdflib.term.URIRef('http://www.example.com#op_add_1'), 'target': rdflib.term.URIRef('http://www.example.com#sum')}]\n"
     ]
    },
    {
     "data": {
      "text/plain": [
       "[{'key': 0,\n",
       "  'sourcePort': rdflib.term.URIRef('http://www.example.com#sum3Parameter1'),\n",
       "  'targetPort': rdflib.term.URIRef('http://www.example.com#sumParameter1'),\n",
       "  'source': rdflib.term.URIRef('http://www.example.com#sum3'),\n",
       "  'target': rdflib.term.URIRef('http://www.example.com#sum_2')},\n",
       " {'key': 1,\n",
       "  'sourcePort': rdflib.term.URIRef('http://www.example.com#sum3Parameter2'),\n",
       "  'targetPort': rdflib.term.URIRef('http://www.example.com#sumParameter1'),\n",
       "  'source': rdflib.term.URIRef('http://www.example.com#sum3'),\n",
       "  'target': rdflib.term.URIRef('http://www.example.com#sum_1')},\n",
       " {'key': 2,\n",
       "  'sourcePort': rdflib.term.URIRef('http://www.example.com#sum3Parameter0'),\n",
       "  'targetPort': rdflib.term.URIRef('http://www.example.com#sumParameter0'),\n",
       "  'source': rdflib.term.URIRef('http://www.example.com#sum3'),\n",
       "  'target': rdflib.term.URIRef('http://www.example.com#sum_2')},\n",
       " {'key': 3,\n",
       "  'sourcePort': rdflib.term.URIRef('http://www.example.com#sumParameter1'),\n",
       "  'targetPort': rdflib.term.URIRef('http://www.example.com#op_addParameter1'),\n",
       "  'source': rdflib.term.URIRef('http://www.example.com#sum'),\n",
       "  'target': rdflib.term.URIRef('http://www.example.com#op_add_1')},\n",
       " {'key': 4,\n",
       "  'sourcePort': rdflib.term.URIRef('http://www.example.com#sumParameter0'),\n",
       "  'targetPort': rdflib.term.URIRef('http://www.example.com#op_addParameter0'),\n",
       "  'source': rdflib.term.URIRef('http://www.example.com#sum'),\n",
       "  'target': rdflib.term.URIRef('http://www.example.com#op_add_1')},\n",
       " {'key': 5,\n",
       "  'sourcePort': rdflib.term.URIRef('http://www.example.com#sumOutput'),\n",
       "  'targetPort': rdflib.term.URIRef('http://www.example.com#sum3Output'),\n",
       "  'source': rdflib.term.URIRef('http://www.example.com#sum_1'),\n",
       "  'target': rdflib.term.URIRef('http://www.example.com#sum3')},\n",
       " {'key': 6,\n",
       "  'sourcePort': rdflib.term.URIRef('http://www.example.com#sumOutput'),\n",
       "  'targetPort': rdflib.term.URIRef('http://www.example.com#sumParameter0'),\n",
       "  'source': rdflib.term.URIRef('http://www.example.com#sum_2'),\n",
       "  'target': rdflib.term.URIRef('http://www.example.com#sum_1')},\n",
       " {'key': 7,\n",
       "  'sourcePort': rdflib.term.URIRef('http://www.example.com#op_addOutput'),\n",
       "  'targetPort': rdflib.term.URIRef('http://www.example.com#sumOutput'),\n",
       "  'source': rdflib.term.URIRef('http://www.example.com#op_add_1'),\n",
       "  'target': rdflib.term.URIRef('http://www.example.com#sum')}]"
      ]
     },
     "execution_count": 48,
     "metadata": {},
     "output_type": "execute_result"
    }
   ],
   "source": [
    "#TEST\n",
    "find_mappings_and_create_links()"
   ]
  },
  {
   "cell_type": "code",
   "execution_count": 49,
   "id": "000210fa-60e2-4404-af1b-12cb50eb9f37",
   "metadata": {},
   "outputs": [],
   "source": [
    "#BACKUP!!\n",
    "\n",
    "def check_and_percolate_dupplications(duplicate_function_mapping, links_data, node_hierarchy):\n",
    "    #print(duplicate_function_mapping)\n",
    "    #print()\n",
    "    duplicated_links_to_be_added = []\n",
    "    count = 1\n",
    "    \n",
    "    for key, value in duplicate_function_mapping.items():\n",
    "        print(\"CONSIDERING FOLLOWING KEY/VALUE PAIR\")\n",
    "        print(key)\n",
    "        print(value)\n",
    "\n",
    "        for link in links_data[\"links\"]:\n",
    "            print(\"CHECKING LINK: \")\n",
    "            print(link)\n",
    "            if link['target'] == value:\n",
    "                print(\"FOUND LINK:\")\n",
    "                print(link)\n",
    "\n",
    "\n",
    "                ##Find the correct source reference in node_hierarchy\n",
    "                for kk, vv in node_hierarchy.items():\n",
    "                    print(\"CHECKING NODE HIERARCHY\")\n",
    "                    print(kk)\n",
    "                    for m in vv:\n",
    "                        print(m)\n",
    "                        if m == key:\n",
    "                            print(\"MATCH\")\n",
    "                            print(\"NEW LINK TO BE CREATED BETWEEN: \")\n",
    "                            print(kk)\n",
    "                            print(\" AND \")\n",
    "                            print(key)\n",
    "                            duplicated_link = {}\n",
    "                            duplicated_link['sourcePort'] = link['sourcePort']\n",
    "                            duplicated_link['targetPort'] = link['targetPort']\n",
    "                            duplicated_link['source'] = kk               \n",
    "                            duplicated_link['target'] = key\n",
    "                            duplicated_link['key'] = count*1000\n",
    "                            print(duplicated_link)\n",
    "                            count = count + 1\n",
    "                            duplicated_links_to_be_added.append(duplicated_link)\n",
    "\n",
    "    \n",
    "    print(duplicated_links_to_be_added)\n",
    "    return(duplicated_links_to_be_added)"
   ]
  }
 ],
 "metadata": {
  "kernelspec": {
   "display_name": "venv",
   "language": "python",
   "name": "python3"
  },
  "language_info": {
   "codemirror_mode": {
    "name": "ipython",
    "version": 3
   },
   "file_extension": ".py",
   "mimetype": "text/x-python",
   "name": "python",
   "nbconvert_exporter": "python",
   "pygments_lexer": "ipython3",
   "version": "3.12.4"
  }
 },
 "nbformat": 4,
 "nbformat_minor": 5
}
